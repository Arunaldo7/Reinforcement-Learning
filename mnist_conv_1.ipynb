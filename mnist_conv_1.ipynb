{
 "cells": [
  {
   "cell_type": "code",
   "execution_count": 1,
   "id": "86713749",
   "metadata": {},
   "outputs": [],
   "source": [
    "import pandas as pd;\n",
    "import numpy as np;\n",
    "\n",
    "import matplotlib.pyplot as plt;"
   ]
  },
  {
   "cell_type": "code",
   "execution_count": 2,
   "id": "fe9202c2",
   "metadata": {},
   "outputs": [],
   "source": [
    "from tensorflow.keras.datasets import mnist;"
   ]
  },
  {
   "cell_type": "code",
   "execution_count": 3,
   "id": "758d790d",
   "metadata": {},
   "outputs": [],
   "source": [
    "(X_train, y_train), (X_test, y_test) = mnist.load_data();"
   ]
  },
  {
   "cell_type": "code",
   "execution_count": 4,
   "id": "77df8d23",
   "metadata": {},
   "outputs": [
    {
     "data": {
      "text/plain": [
       "(60000, 28, 28)"
      ]
     },
     "execution_count": 4,
     "metadata": {},
     "output_type": "execute_result"
    }
   ],
   "source": [
    "X_train.shape"
   ]
  },
  {
   "cell_type": "code",
   "execution_count": 5,
   "id": "10f2cf1c",
   "metadata": {},
   "outputs": [],
   "source": [
    "sample_image = X_train[0]"
   ]
  },
  {
   "cell_type": "code",
   "execution_count": 6,
   "id": "caa0c2b2",
   "metadata": {},
   "outputs": [
    {
     "data": {
      "image/png": "[encoded data removed]",
      "text/plain": [
       "<Figure size 640x480 with 1 Axes>"
      ]
     },
     "metadata": {},
     "output_type": "display_data"
    }
   ],
   "source": [
    "plt.imshow(sample_image);"
   ]
  },
  {
   "cell_type": "code",
   "execution_count": 7,
   "id": "75fafa9e",
   "metadata": {},
   "outputs": [],
   "source": [
    "from tensorflow.keras.utils import to_categorical;"
   ]
  },
  {
   "cell_type": "code",
   "execution_count": 8,
   "id": "9880794c",
   "metadata": {},
   "outputs": [],
   "source": [
    "y_example = to_categorical(y_train);"
   ]
  },
  {
   "cell_type": "code",
   "execution_count": 9,
   "id": "11fbe896",
   "metadata": {},
   "outputs": [
    {
     "data": {
      "text/plain": [
       "array([0., 0., 0., 0., 0., 1., 0., 0., 0., 0.], dtype=float32)"
      ]
     },
     "execution_count": 9,
     "metadata": {},
     "output_type": "execute_result"
    }
   ],
   "source": [
    "y_example[0]"
   ]
  },
  {
   "cell_type": "code",
   "execution_count": 10,
   "id": "7dff6a7c",
   "metadata": {},
   "outputs": [
    {
     "data": {
      "text/plain": [
       "array([5, 0, 4, ..., 5, 6, 8], dtype=uint8)"
      ]
     },
     "execution_count": 10,
     "metadata": {},
     "output_type": "execute_result"
    }
   ],
   "source": [
    "y_train"
   ]
  },
  {
   "cell_type": "code",
   "execution_count": 11,
   "id": "66a99478",
   "metadata": {},
   "outputs": [],
   "source": [
    "from tensorflow.keras.models import Sequential;\n",
    "from tensorflow.keras.layers import Dense, Conv2D, Flatten, MaxPool2D;"
   ]
  },
  {
   "cell_type": "code",
   "execution_count": 12,
   "id": "b0b021fa",
   "metadata": {},
   "outputs": [],
   "source": [
    "X_train = X_train / 255;\n",
    "X_test = X_test / 255;\n",
    "\n",
    "y_cat_train = to_categorical(y_train, 10);\n",
    "y_cat_test = to_categorical(y_test,10)"
   ]
  },
  {
   "cell_type": "code",
   "execution_count": 13,
   "id": "3fd874fa",
   "metadata": {},
   "outputs": [
    {
     "data": {
      "text/plain": [
       "(60000, 28, 28)"
      ]
     },
     "execution_count": 13,
     "metadata": {},
     "output_type": "execute_result"
    }
   ],
   "source": [
    "X_train.shape"
   ]
  },
  {
   "cell_type": "code",
   "execution_count": 14,
   "id": "f7e5b479",
   "metadata": {},
   "outputs": [],
   "source": [
    "X_train = X_train.reshape(X_train.shape[0], X_train.shape[1], X_train.shape[2], 1);\n",
    "X_test = X_test.reshape(X_test.shape[0], X_test.shape[1], X_test.shape[2], 1);"
   ]
  },
  {
   "cell_type": "code",
   "execution_count": 15,
   "id": "fd104f4d",
   "metadata": {},
   "outputs": [
    {
     "data": {
      "text/plain": [
       "(60000, 28, 28, 1)"
      ]
     },
     "execution_count": 15,
     "metadata": {},
     "output_type": "execute_result"
    }
   ],
   "source": [
    "X_train.shape"
   ]
  },
  {
   "cell_type": "code",
   "execution_count": 57,
   "id": "8a1d88da",
   "metadata": {},
   "outputs": [],
   "source": [
    "model = Sequential();\n",
    "\n",
    "model.add(Conv2D(filters = 32, kernel_size = (4,4), input_shape = (28,28,1), activation = \"relu\"));\n",
    "model.add(MaxPool2D(pool_size = (2,2)));\n",
    "\n",
    "model.add(Flatten());\n",
    "\n",
    "model.add(Dense(256, activation = \"relu\"));\n",
    "\n",
    "model.add(Dense(10, activation = \"softmax\"));\n",
    "\n",
    "model.compile(loss = \"categorical_crossentropy\", optimizer = \"adam\", metrics = [\"accuracy\"]);"
   ]
  },
  {
   "cell_type": "code",
   "execution_count": 58,
   "id": "7437dc4c",
   "metadata": {},
   "outputs": [],
   "source": [
    "from tensorflow.keras.callbacks import EarlyStopping;"
   ]
  },
  {
   "cell_type": "code",
   "execution_count": 59,
   "id": "c1539bff",
   "metadata": {},
   "outputs": [],
   "source": [
    "early_stop = EarlyStopping(monitor = \"accuracy\", patience = 1, mode = \"max\");"
   ]
  },
  {
   "cell_type": "code",
   "execution_count": 60,
   "id": "d921520d",
   "metadata": {},
   "outputs": [
    {
     "name": "stdout",
     "output_type": "stream",
     "text": [
      "Epoch 1/5\n",
      "1875/1875 [==============================] - 5s 3ms/step - loss: 0.1277 - accuracy: 0.9614\n",
      "Epoch 2/5\n",
      "1875/1875 [==============================] - 5s 3ms/step - loss: 0.0433 - accuracy: 0.9868\n",
      "Epoch 3/5\n",
      "1875/1875 [==============================] - 5s 3ms/step - loss: 0.0265 - accuracy: 0.9916\n",
      "Epoch 4/5\n",
      "1875/1875 [==============================] - 5s 3ms/step - loss: 0.0179 - accuracy: 0.9942\n",
      "Epoch 5/5\n",
      "1875/1875 [==============================] - 5s 3ms/step - loss: 0.0123 - accuracy: 0.9961\n"
     ]
    },
    {
     "data": {
      "text/plain": [
       "<keras.callbacks.History at 0x22ad697ec40>"
      ]
     },
     "execution_count": 60,
     "metadata": {},
     "output_type": "execute_result"
    }
   ],
   "source": [
    "model.fit(X_train, y_cat_train, epochs = 5, callbacks = [early_stop],\n",
    "         verbose = 1)"
   ]
  },
  {
   "cell_type": "code",
   "execution_count": 61,
   "id": "37b76b78",
   "metadata": {},
   "outputs": [
    {
     "data": {
      "text/plain": [
       "{'loss': [0.12770655751228333,\n",
       "  0.04327205568552017,\n",
       "  0.026452770456671715,\n",
       "  0.0179152712225914,\n",
       "  0.01227823831140995],\n",
       " 'accuracy': [0.9613833427429199,\n",
       "  0.9867833256721497,\n",
       "  0.9916166663169861,\n",
       "  0.994183361530304,\n",
       "  0.9960833191871643]}"
      ]
     },
     "execution_count": 61,
     "metadata": {},
     "output_type": "execute_result"
    }
   ],
   "source": [
    "model.history.history"
   ]
  },
  {
   "cell_type": "code",
   "execution_count": 62,
   "id": "27925031",
   "metadata": {},
   "outputs": [],
   "source": [
    "stat_dataset = pd.DataFrame(model.history.history);"
   ]
  },
  {
   "cell_type": "code",
   "execution_count": 63,
   "id": "9dbb3855",
   "metadata": {},
   "outputs": [
    {
     "data": {
      "text/plain": [
       "<AxesSubplot: >"
      ]
     },
     "execution_count": 63,
     "metadata": {},
     "output_type": "execute_result"
    },
    {
     "data": {
      "image/png": "[encoded data removed]",
      "text/plain": [
       "<Figure size 640x480 with 1 Axes>"
      ]
     },
     "metadata": {},
     "output_type": "display_data"
    }
   ],
   "source": [
    "stat_dataset.plot()"
   ]
  },
  {
   "cell_type": "code",
   "execution_count": null,
   "id": "5d7027df",
   "metadata": {},
   "outputs": [],
   "source": []
  }
 ],
 "metadata": {
  "kernelspec": {
   "display_name": "Python 3.9.13 ('conda_tf')",
   "language": "python",
   "name": "python3"
  },
  "language_info": {
   "codemirror_mode": {
    "name": "ipython",
    "version": 3
   },
   "file_extension": ".py",
   "mimetype": "text/x-python",
   "name": "python",
   "nbconvert_exporter": "python",
   "pygments_lexer": "ipython3",
   "version": "3.9.13"
  },
  "vscode": {
   "interpreter": {
    "hash": "8931c706fd135fbbbb9da94fdeeae81c67e92dd9c4b5d7d057325400bf59907e"
   }
  }
 },
 "nbformat": 4,
 "nbformat_minor": 5
}
