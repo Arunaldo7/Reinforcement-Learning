{
 "cells": [
  {
   "cell_type": "code",
   "execution_count": 1,
   "id": "b8ae404c",
   "metadata": {},
   "outputs": [],
   "source": [
    "from tensorflow import keras;\n",
    "import tensorflow as tf;\n",
    "\n",
    "import pandas as pd;\n",
    "from sklearn.metrics import accuracy_score;\n",
    "import seaborn as sns;\n",
    "import matplotlib.pyplot as plt;\n",
    "\n",
    "from sklearn.preprocessing import StandardScaler, OneHotEncoder, LabelEncoder, MinMaxScaler;"
   ]
  },
  {
   "cell_type": "code",
   "execution_count": 4,
   "id": "6b072c79",
   "metadata": {},
   "outputs": [
    {
     "data": {
      "text/plain": [
       "[PhysicalDevice(name='/physical_device:GPU:0', device_type='GPU')]"
      ]
     },
     "execution_count": 4,
     "metadata": {},
     "output_type": "execute_result"
    }
   ],
   "source": [
    "import tensorflow as tf;\n",
    "tf.config.list_physical_devices('GPU');"
   ]
  },
  {
   "cell_type": "code",
   "execution_count": 2,
   "id": "8723544b",
   "metadata": {},
   "outputs": [],
   "source": [
    "dataset = pd.read_csv(\"datasets/california_housing_sklearn.csv\");"
   ]
  },
  {
   "cell_type": "code",
   "execution_count": 3,
   "id": "09ef8ed1",
   "metadata": {},
   "outputs": [
    {
     "data": {
      "text/html": [
       "<div>\n",
       "<style scoped>\n",
       "    .dataframe tbody tr th:only-of-type {\n",
       "        vertical-align: middle;\n",
       "    }\n",
       "\n",
       "    .dataframe tbody tr th {\n",
       "        vertical-align: top;\n",
       "    }\n",
       "\n",
       "    .dataframe thead th {\n",
       "        text-align: right;\n",
       "    }\n",
       "</style>\n",
       "<table border=\"1\" class=\"dataframe\">\n",
       "  <thead>\n",
       "    <tr style=\"text-align: right;\">\n",
       "      <th></th>\n",
       "      <th>MedInc</th>\n",
       "      <th>HouseAge</th>\n",
       "      <th>AveRooms</th>\n",
       "      <th>AveBedrms</th>\n",
       "      <th>Population</th>\n",
       "      <th>AveOccup</th>\n",
       "      <th>Latitude</th>\n",
       "      <th>Longitude</th>\n",
       "      <th>SalePrice</th>\n",
       "    </tr>\n",
       "  </thead>\n",
       "  <tbody>\n",
       "    <tr>\n",
       "      <th>0</th>\n",
       "      <td>8.3252</td>\n",
       "      <td>41.0</td>\n",
       "      <td>6.984127</td>\n",
       "      <td>1.023810</td>\n",
       "      <td>322.0</td>\n",
       "      <td>2.555556</td>\n",
       "      <td>37.88</td>\n",
       "      <td>-122.23</td>\n",
       "      <td>4.526</td>\n",
       "    </tr>\n",
       "    <tr>\n",
       "      <th>1</th>\n",
       "      <td>8.3014</td>\n",
       "      <td>21.0</td>\n",
       "      <td>6.238137</td>\n",
       "      <td>0.971880</td>\n",
       "      <td>2401.0</td>\n",
       "      <td>2.109842</td>\n",
       "      <td>37.86</td>\n",
       "      <td>-122.22</td>\n",
       "      <td>3.585</td>\n",
       "    </tr>\n",
       "    <tr>\n",
       "      <th>2</th>\n",
       "      <td>7.2574</td>\n",
       "      <td>52.0</td>\n",
       "      <td>8.288136</td>\n",
       "      <td>1.073446</td>\n",
       "      <td>496.0</td>\n",
       "      <td>2.802260</td>\n",
       "      <td>37.85</td>\n",
       "      <td>-122.24</td>\n",
       "      <td>3.521</td>\n",
       "    </tr>\n",
       "    <tr>\n",
       "      <th>3</th>\n",
       "      <td>5.6431</td>\n",
       "      <td>52.0</td>\n",
       "      <td>5.817352</td>\n",
       "      <td>1.073059</td>\n",
       "      <td>558.0</td>\n",
       "      <td>2.547945</td>\n",
       "      <td>37.85</td>\n",
       "      <td>-122.25</td>\n",
       "      <td>3.413</td>\n",
       "    </tr>\n",
       "    <tr>\n",
       "      <th>4</th>\n",
       "      <td>3.8462</td>\n",
       "      <td>52.0</td>\n",
       "      <td>6.281853</td>\n",
       "      <td>1.081081</td>\n",
       "      <td>565.0</td>\n",
       "      <td>2.181467</td>\n",
       "      <td>37.85</td>\n",
       "      <td>-122.25</td>\n",
       "      <td>3.422</td>\n",
       "    </tr>\n",
       "  </tbody>\n",
       "</table>\n",
       "</div>"
      ],
      "text/plain": [
       "   MedInc  HouseAge  AveRooms  AveBedrms  Population  AveOccup  Latitude  \\\n",
       "0  8.3252      41.0  6.984127   1.023810       322.0  2.555556     37.88   \n",
       "1  8.3014      21.0  6.238137   0.971880      2401.0  2.109842     37.86   \n",
       "2  7.2574      52.0  8.288136   1.073446       496.0  2.802260     37.85   \n",
       "3  5.6431      52.0  5.817352   1.073059       558.0  2.547945     37.85   \n",
       "4  3.8462      52.0  6.281853   1.081081       565.0  2.181467     37.85   \n",
       "\n",
       "   Longitude  SalePrice  \n",
       "0    -122.23      4.526  \n",
       "1    -122.22      3.585  \n",
       "2    -122.24      3.521  \n",
       "3    -122.25      3.413  \n",
       "4    -122.25      3.422  "
      ]
     },
     "execution_count": 3,
     "metadata": {},
     "output_type": "execute_result"
    }
   ],
   "source": [
    "dataset.head()"
   ]
  },
  {
   "cell_type": "code",
   "execution_count": 5,
   "id": "e1e8bea6",
   "metadata": {},
   "outputs": [
    {
     "name": "stderr",
     "output_type": "stream",
     "text": [
      "C:\\Users\\arunk\\AppData\\Local\\Temp\\ipykernel_5748\\462184918.py:1: UserWarning: \n",
      "\n",
      "`distplot` is a deprecated function and will be removed in seaborn v0.14.0.\n",
      "\n",
      "Please adapt your code to use either `displot` (a figure-level function with\n",
      "similar flexibility) or `histplot` (an axes-level function for histograms).\n",
      "\n",
      "For a guide to updating your code to use the new functions, please see\n",
      "https://gist.github.com/mwaskom/de44147ed2974457ad6372750bbe5751\n",
      "\n",
      "  sns.distplot(dataset[\"HouseAge\"])\n"
     ]
    },
    {
     "data": {
      "text/plain": [
       "<AxesSubplot: xlabel='HouseAge', ylabel='Density'>"
      ]
     },
     "execution_count": 5,
     "metadata": {},
     "output_type": "execute_result"
    },
    {
     "data": {
      "image/png": "[encoded data removed]",
      "text/plain": [
       "<Figure size 640x480 with 1 Axes>"
      ]
     },
     "metadata": {},
     "output_type": "display_data"
    }
   ],
   "source": [
    "sns.distplot(dataset[\"HouseAge\"])"
   ]
  },
  {
   "cell_type": "code",
   "execution_count": 7,
   "id": "234d995d",
   "metadata": {},
   "outputs": [
    {
     "data": {
      "text/plain": [
       "MedInc        0.688075\n",
       "HouseAge      0.105623\n",
       "AveRooms      0.151948\n",
       "AveBedrms    -0.046701\n",
       "Population   -0.024650\n",
       "AveOccup     -0.023737\n",
       "Latitude     -0.144160\n",
       "Longitude    -0.045967\n",
       "SalePrice     1.000000\n",
       "Name: SalePrice, dtype: float64"
      ]
     },
     "execution_count": 7,
     "metadata": {},
     "output_type": "execute_result"
    }
   ],
   "source": [
    "dataset.corr()[\"SalePrice\"]"
   ]
  },
  {
   "cell_type": "code",
   "execution_count": 9,
   "id": "974bfdd7",
   "metadata": {},
   "outputs": [],
   "source": [
    "bank_note_dataset = pd.read_csv(\"datasets/data_banknote_authentication.txt\")"
   ]
  },
  {
   "cell_type": "code",
   "execution_count": 18,
   "id": "8a409669",
   "metadata": {},
   "outputs": [
    {
     "data": {
      "text/html": [
       "<div>\n",
       "<style scoped>\n",
       "    .dataframe tbody tr th:only-of-type {\n",
       "        vertical-align: middle;\n",
       "    }\n",
       "\n",
       "    .dataframe tbody tr th {\n",
       "        vertical-align: top;\n",
       "    }\n",
       "\n",
       "    .dataframe thead th {\n",
       "        text-align: right;\n",
       "    }\n",
       "</style>\n",
       "<table border=\"1\" class=\"dataframe\">\n",
       "  <thead>\n",
       "    <tr style=\"text-align: right;\">\n",
       "      <th></th>\n",
       "      <th>col1</th>\n",
       "      <th>col2</th>\n",
       "      <th>col3</th>\n",
       "      <th>col4</th>\n",
       "      <th>result</th>\n",
       "    </tr>\n",
       "  </thead>\n",
       "  <tbody>\n",
       "    <tr>\n",
       "      <th>0</th>\n",
       "      <td>3.62160</td>\n",
       "      <td>8.6661</td>\n",
       "      <td>-2.8073</td>\n",
       "      <td>-0.44699</td>\n",
       "      <td>0</td>\n",
       "    </tr>\n",
       "    <tr>\n",
       "      <th>1</th>\n",
       "      <td>4.54590</td>\n",
       "      <td>8.1674</td>\n",
       "      <td>-2.4586</td>\n",
       "      <td>-1.46210</td>\n",
       "      <td>0</td>\n",
       "    </tr>\n",
       "    <tr>\n",
       "      <th>2</th>\n",
       "      <td>3.86600</td>\n",
       "      <td>-2.6383</td>\n",
       "      <td>1.9242</td>\n",
       "      <td>0.10645</td>\n",
       "      <td>0</td>\n",
       "    </tr>\n",
       "    <tr>\n",
       "      <th>3</th>\n",
       "      <td>3.45660</td>\n",
       "      <td>9.5228</td>\n",
       "      <td>-4.0112</td>\n",
       "      <td>-3.59440</td>\n",
       "      <td>0</td>\n",
       "    </tr>\n",
       "    <tr>\n",
       "      <th>4</th>\n",
       "      <td>0.32924</td>\n",
       "      <td>-4.4552</td>\n",
       "      <td>4.5718</td>\n",
       "      <td>-0.98880</td>\n",
       "      <td>0</td>\n",
       "    </tr>\n",
       "  </tbody>\n",
       "</table>\n",
       "</div>"
      ],
      "text/plain": [
       "      col1    col2    col3     col4  result\n",
       "0  3.62160  8.6661 -2.8073 -0.44699       0\n",
       "1  4.54590  8.1674 -2.4586 -1.46210       0\n",
       "2  3.86600 -2.6383  1.9242  0.10645       0\n",
       "3  3.45660  9.5228 -4.0112 -3.59440       0\n",
       "4  0.32924 -4.4552  4.5718 -0.98880       0"
      ]
     },
     "execution_count": 18,
     "metadata": {},
     "output_type": "execute_result"
    }
   ],
   "source": [
    "bank_note_dataset.head()\n"
   ]
  },
  {
   "cell_type": "code",
   "execution_count": 19,
   "id": "77bcc53a",
   "metadata": {},
   "outputs": [
    {
     "name": "stdout",
     "output_type": "stream",
     "text": [
      "1372\n"
     ]
    }
   ],
   "source": [
    "print(len(bank_note_dataset))"
   ]
  },
  {
   "cell_type": "code",
   "execution_count": 7,
   "id": "7be0a2f6",
   "metadata": {},
   "outputs": [],
   "source": [
    "from sklearn.model_selection import train_test_split;"
   ]
  },
  {
   "cell_type": "code",
   "execution_count": 10,
   "id": "cd97d76b",
   "metadata": {},
   "outputs": [],
   "source": [
    "indep_features = [\"col1\", \"col2\", \"col3\", \"col4\"];\n",
    "dep_feature = \"result\";\n",
    "\n",
    "X = bank_note_dataset[indep_features];\n",
    "y = bank_note_dataset[[dep_feature]];"
   ]
  },
  {
   "cell_type": "code",
   "execution_count": 11,
   "id": "5e5cb383",
   "metadata": {},
   "outputs": [],
   "source": [
    "X_train, X_test, y_train, y_test = train_test_split(X, y, test_size = 0.3, random_state = 10);"
   ]
  },
  {
   "cell_type": "code",
   "execution_count": 12,
   "id": "9b32447e",
   "metadata": {},
   "outputs": [
    {
     "data": {
      "text/plain": [
       "960"
      ]
     },
     "execution_count": 12,
     "metadata": {},
     "output_type": "execute_result"
    }
   ],
   "source": [
    "len(X_train)"
   ]
  },
  {
   "cell_type": "code",
   "execution_count": 13,
   "id": "b26f778d",
   "metadata": {},
   "outputs": [
    {
     "data": {
      "text/html": [
       "<div>\n",
       "<style scoped>\n",
       "    .dataframe tbody tr th:only-of-type {\n",
       "        vertical-align: middle;\n",
       "    }\n",
       "\n",
       "    .dataframe tbody tr th {\n",
       "        vertical-align: top;\n",
       "    }\n",
       "\n",
       "    .dataframe thead th {\n",
       "        text-align: right;\n",
       "    }\n",
       "</style>\n",
       "<table border=\"1\" class=\"dataframe\">\n",
       "  <thead>\n",
       "    <tr style=\"text-align: right;\">\n",
       "      <th></th>\n",
       "      <th>col1</th>\n",
       "      <th>col2</th>\n",
       "      <th>col3</th>\n",
       "      <th>col4</th>\n",
       "    </tr>\n",
       "  </thead>\n",
       "  <tbody>\n",
       "    <tr>\n",
       "      <th>106</th>\n",
       "      <td>2.31360</td>\n",
       "      <td>10.66510</td>\n",
       "      <td>-3.52880</td>\n",
       "      <td>-4.767200</td>\n",
       "    </tr>\n",
       "    <tr>\n",
       "      <th>73</th>\n",
       "      <td>4.16540</td>\n",
       "      <td>-3.44950</td>\n",
       "      <td>3.64300</td>\n",
       "      <td>1.087900</td>\n",
       "    </tr>\n",
       "    <tr>\n",
       "      <th>554</th>\n",
       "      <td>2.64630</td>\n",
       "      <td>-4.81520</td>\n",
       "      <td>6.35490</td>\n",
       "      <td>0.003003</td>\n",
       "    </tr>\n",
       "    <tr>\n",
       "      <th>1114</th>\n",
       "      <td>-1.05550</td>\n",
       "      <td>0.79459</td>\n",
       "      <td>-1.69680</td>\n",
       "      <td>-0.467680</td>\n",
       "    </tr>\n",
       "    <tr>\n",
       "      <th>1221</th>\n",
       "      <td>-1.83560</td>\n",
       "      <td>-6.75620</td>\n",
       "      <td>5.05850</td>\n",
       "      <td>-0.550440</td>\n",
       "    </tr>\n",
       "    <tr>\n",
       "      <th>...</th>\n",
       "      <td>...</td>\n",
       "      <td>...</td>\n",
       "      <td>...</td>\n",
       "      <td>...</td>\n",
       "    </tr>\n",
       "    <tr>\n",
       "      <th>1147</th>\n",
       "      <td>-1.69880</td>\n",
       "      <td>-7.11630</td>\n",
       "      <td>5.79020</td>\n",
       "      <td>0.167230</td>\n",
       "    </tr>\n",
       "    <tr>\n",
       "      <th>1344</th>\n",
       "      <td>1.34510</td>\n",
       "      <td>0.23589</td>\n",
       "      <td>-1.87850</td>\n",
       "      <td>1.325800</td>\n",
       "    </tr>\n",
       "    <tr>\n",
       "      <th>527</th>\n",
       "      <td>2.53280</td>\n",
       "      <td>7.52800</td>\n",
       "      <td>-0.41929</td>\n",
       "      <td>-2.647800</td>\n",
       "    </tr>\n",
       "    <tr>\n",
       "      <th>1149</th>\n",
       "      <td>0.33325</td>\n",
       "      <td>3.31080</td>\n",
       "      <td>-4.50810</td>\n",
       "      <td>-4.012000</td>\n",
       "    </tr>\n",
       "    <tr>\n",
       "      <th>1289</th>\n",
       "      <td>-1.40940</td>\n",
       "      <td>-2.12520</td>\n",
       "      <td>-0.10397</td>\n",
       "      <td>-0.192250</td>\n",
       "    </tr>\n",
       "  </tbody>\n",
       "</table>\n",
       "<p>960 rows × 4 columns</p>\n",
       "</div>"
      ],
      "text/plain": [
       "         col1      col2     col3      col4\n",
       "106   2.31360  10.66510 -3.52880 -4.767200\n",
       "73    4.16540  -3.44950  3.64300  1.087900\n",
       "554   2.64630  -4.81520  6.35490  0.003003\n",
       "1114 -1.05550   0.79459 -1.69680 -0.467680\n",
       "1221 -1.83560  -6.75620  5.05850 -0.550440\n",
       "...       ...       ...      ...       ...\n",
       "1147 -1.69880  -7.11630  5.79020  0.167230\n",
       "1344  1.34510   0.23589 -1.87850  1.325800\n",
       "527   2.53280   7.52800 -0.41929 -2.647800\n",
       "1149  0.33325   3.31080 -4.50810 -4.012000\n",
       "1289 -1.40940  -2.12520 -0.10397 -0.192250\n",
       "\n",
       "[960 rows x 4 columns]"
      ]
     },
     "execution_count": 13,
     "metadata": {},
     "output_type": "execute_result"
    }
   ],
   "source": [
    "X_train"
   ]
  },
  {
   "cell_type": "code",
   "execution_count": 14,
   "id": "1013553a",
   "metadata": {},
   "outputs": [
    {
     "data": {
      "text/html": [
       "<div>\n",
       "<style scoped>\n",
       "    .dataframe tbody tr th:only-of-type {\n",
       "        vertical-align: middle;\n",
       "    }\n",
       "\n",
       "    .dataframe tbody tr th {\n",
       "        vertical-align: top;\n",
       "    }\n",
       "\n",
       "    .dataframe thead th {\n",
       "        text-align: right;\n",
       "    }\n",
       "</style>\n",
       "<table border=\"1\" class=\"dataframe\">\n",
       "  <thead>\n",
       "    <tr style=\"text-align: right;\">\n",
       "      <th></th>\n",
       "      <th>result</th>\n",
       "    </tr>\n",
       "  </thead>\n",
       "  <tbody>\n",
       "    <tr>\n",
       "      <th>106</th>\n",
       "      <td>0</td>\n",
       "    </tr>\n",
       "    <tr>\n",
       "      <th>73</th>\n",
       "      <td>0</td>\n",
       "    </tr>\n",
       "    <tr>\n",
       "      <th>554</th>\n",
       "      <td>0</td>\n",
       "    </tr>\n",
       "    <tr>\n",
       "      <th>1114</th>\n",
       "      <td>1</td>\n",
       "    </tr>\n",
       "    <tr>\n",
       "      <th>1221</th>\n",
       "      <td>1</td>\n",
       "    </tr>\n",
       "    <tr>\n",
       "      <th>...</th>\n",
       "      <td>...</td>\n",
       "    </tr>\n",
       "    <tr>\n",
       "      <th>1147</th>\n",
       "      <td>1</td>\n",
       "    </tr>\n",
       "    <tr>\n",
       "      <th>1344</th>\n",
       "      <td>1</td>\n",
       "    </tr>\n",
       "    <tr>\n",
       "      <th>527</th>\n",
       "      <td>0</td>\n",
       "    </tr>\n",
       "    <tr>\n",
       "      <th>1149</th>\n",
       "      <td>1</td>\n",
       "    </tr>\n",
       "    <tr>\n",
       "      <th>1289</th>\n",
       "      <td>1</td>\n",
       "    </tr>\n",
       "  </tbody>\n",
       "</table>\n",
       "<p>960 rows × 1 columns</p>\n",
       "</div>"
      ],
      "text/plain": [
       "      result\n",
       "106        0\n",
       "73         0\n",
       "554        0\n",
       "1114       1\n",
       "1221       1\n",
       "...      ...\n",
       "1147       1\n",
       "1344       1\n",
       "527        0\n",
       "1149       1\n",
       "1289       1\n",
       "\n",
       "[960 rows x 1 columns]"
      ]
     },
     "execution_count": 14,
     "metadata": {},
     "output_type": "execute_result"
    }
   ],
   "source": [
    "y_train"
   ]
  },
  {
   "cell_type": "code",
   "execution_count": 15,
   "id": "499e18bd",
   "metadata": {},
   "outputs": [],
   "source": [
    "scaler = MinMaxScaler();"
   ]
  },
  {
   "cell_type": "code",
   "execution_count": 16,
   "id": "4935f3fd",
   "metadata": {},
   "outputs": [],
   "source": [
    "scaler.fit(X_train);\n",
    "\n",
    "X_train = scaler.transform(X_train);"
   ]
  },
  {
   "cell_type": "code",
   "execution_count": 17,
   "id": "a0e0260f",
   "metadata": {},
   "outputs": [],
   "source": [
    "from tensorflow.keras.models import Sequential;\n",
    "from tensorflow.keras.layers import Dense, Dropout;"
   ]
  },
  {
   "cell_type": "code",
   "execution_count": 18,
   "id": "6dad1ffa",
   "metadata": {},
   "outputs": [],
   "source": [
    "model = Sequential();\n",
    "\n",
    "model.add(Dense(30, activation = \"relu\"));\n",
    "model.add(Dense(15, activation = \"relu\"));\n",
    "\n",
    "model.add(Dense(1, activation = \"sigmoid\"));"
   ]
  },
  {
   "cell_type": "code",
   "execution_count": 19,
   "id": "29435325",
   "metadata": {},
   "outputs": [],
   "source": [
    "model.compile(loss = \"binary_crossentropy\", optimizer = \"adam\")"
   ]
  },
  {
   "cell_type": "code",
   "execution_count": 20,
   "id": "19dd8478",
   "metadata": {},
   "outputs": [],
   "source": [
    "from tensorflow.keras.callbacks import EarlyStopping;"
   ]
  },
  {
   "cell_type": "code",
   "execution_count": 21,
   "id": "7e1861a5",
   "metadata": {},
   "outputs": [],
   "source": [
    "early_stopping = EarlyStopping(monitor = \"val_loss\", mode = \"min\", verbose = 1, patience = 30);"
   ]
  },
  {
   "cell_type": "code",
   "execution_count": 22,
   "id": "acfa72f7",
   "metadata": {
    "scrolled": true
   },
   "outputs": [
    {
     "name": "stdout",
     "output_type": "stream",
     "text": [
      "Epoch 1/600\n",
      "30/30 [==============================] - 2s 9ms/step - loss: 0.6467 - val_loss: 0.9455\n",
      "Epoch 2/600\n",
      "30/30 [==============================] - 0s 4ms/step - loss: 0.6147 - val_loss: 0.7476\n",
      "Epoch 3/600\n",
      "30/30 [==============================] - 0s 4ms/step - loss: 0.5747 - val_loss: 0.6463\n",
      "Epoch 4/600\n",
      "30/30 [==============================] - 0s 4ms/step - loss: 0.5356 - val_loss: 0.6571\n",
      "Epoch 5/600\n",
      "30/30 [==============================] - 0s 4ms/step - loss: 0.4979 - val_loss: 0.6732\n",
      "Epoch 6/600\n",
      "30/30 [==============================] - 0s 3ms/step - loss: 0.4595 - val_loss: 0.6160\n",
      "Epoch 7/600\n",
      "30/30 [==============================] - 0s 3ms/step - loss: 0.4212 - val_loss: 0.5938\n",
      "Epoch 8/600\n",
      "30/30 [==============================] - 0s 3ms/step - loss: 0.3832 - val_loss: 0.4720\n",
      "Epoch 9/600\n",
      "30/30 [==============================] - 0s 3ms/step - loss: 0.3510 - val_loss: 0.4077\n",
      "Epoch 10/600\n",
      "30/30 [==============================] - 0s 3ms/step - loss: 0.3141 - val_loss: 0.3043\n",
      "Epoch 11/600\n",
      "30/30 [==============================] - 0s 3ms/step - loss: 0.2843 - val_loss: 0.2228\n",
      "Epoch 12/600\n",
      "30/30 [==============================] - 0s 3ms/step - loss: 0.2540 - val_loss: 0.1658\n",
      "Epoch 13/600\n",
      "30/30 [==============================] - 0s 3ms/step - loss: 0.2290 - val_loss: 0.1155\n",
      "Epoch 14/600\n",
      "30/30 [==============================] - 0s 4ms/step - loss: 0.2062 - val_loss: 0.0893\n",
      "Epoch 15/600\n",
      "30/30 [==============================] - 0s 4ms/step - loss: 0.1841 - val_loss: 0.0848\n",
      "Epoch 16/600\n",
      "30/30 [==============================] - 0s 3ms/step - loss: 0.1643 - val_loss: 0.0848\n",
      "Epoch 17/600\n",
      "30/30 [==============================] - 0s 4ms/step - loss: 0.1508 - val_loss: 0.0905\n",
      "Epoch 18/600\n",
      "30/30 [==============================] - 0s 3ms/step - loss: 0.1387 - val_loss: 0.1105\n",
      "Epoch 19/600\n",
      "30/30 [==============================] - 0s 4ms/step - loss: 0.1222 - val_loss: 0.1183\n",
      "Epoch 20/600\n",
      "30/30 [==============================] - 0s 4ms/step - loss: 0.1122 - val_loss: 0.1334\n",
      "Epoch 21/600\n",
      "30/30 [==============================] - 0s 4ms/step - loss: 0.1026 - val_loss: 0.1492\n",
      "Epoch 22/600\n",
      "30/30 [==============================] - 0s 3ms/step - loss: 0.0947 - val_loss: 0.1667\n",
      "Epoch 23/600\n",
      "30/30 [==============================] - 0s 3ms/step - loss: 0.0889 - val_loss: 0.1848\n",
      "Epoch 24/600\n",
      "30/30 [==============================] - 0s 4ms/step - loss: 0.0816 - val_loss: 0.2158\n",
      "Epoch 25/600\n",
      "30/30 [==============================] - 0s 3ms/step - loss: 0.0753 - val_loss: 0.2483\n",
      "Epoch 26/600\n",
      "30/30 [==============================] - 0s 4ms/step - loss: 0.0707 - val_loss: 0.2671\n",
      "Epoch 27/600\n",
      "30/30 [==============================] - 0s 4ms/step - loss: 0.0667 - val_loss: 0.3047\n",
      "Epoch 28/600\n",
      "30/30 [==============================] - 0s 4ms/step - loss: 0.0620 - val_loss: 0.3434\n",
      "Epoch 29/600\n",
      "30/30 [==============================] - 0s 4ms/step - loss: 0.0575 - val_loss: 0.3797\n",
      "Epoch 30/600\n",
      "30/30 [==============================] - 0s 3ms/step - loss: 0.0553 - val_loss: 0.3975\n",
      "Epoch 31/600\n",
      "30/30 [==============================] - 0s 4ms/step - loss: 0.0518 - val_loss: 0.4317\n",
      "Epoch 32/600\n",
      "30/30 [==============================] - 0s 4ms/step - loss: 0.0495 - val_loss: 0.4657\n",
      "Epoch 33/600\n",
      "30/30 [==============================] - 0s 3ms/step - loss: 0.0461 - val_loss: 0.4811\n",
      "Epoch 34/600\n",
      "30/30 [==============================] - 0s 4ms/step - loss: 0.0445 - val_loss: 0.5193\n",
      "Epoch 35/600\n",
      "30/30 [==============================] - 0s 4ms/step - loss: 0.0425 - val_loss: 0.5534\n",
      "Epoch 36/600\n",
      "30/30 [==============================] - 0s 4ms/step - loss: 0.0398 - val_loss: 0.5886\n",
      "Epoch 37/600\n",
      "30/30 [==============================] - 0s 4ms/step - loss: 0.0390 - val_loss: 0.6021\n",
      "Epoch 38/600\n",
      "30/30 [==============================] - 0s 4ms/step - loss: 0.0371 - val_loss: 0.6311\n",
      "Epoch 39/600\n",
      "30/30 [==============================] - 0s 4ms/step - loss: 0.0358 - val_loss: 0.6808\n",
      "Epoch 40/600\n",
      "30/30 [==============================] - 0s 4ms/step - loss: 0.0339 - val_loss: 0.7092\n",
      "Epoch 41/600\n",
      "30/30 [==============================] - 0s 3ms/step - loss: 0.0352 - val_loss: 0.7207\n",
      "Epoch 42/600\n",
      "30/30 [==============================] - 0s 4ms/step - loss: 0.0334 - val_loss: 0.7495\n",
      "Epoch 43/600\n",
      "30/30 [==============================] - 0s 4ms/step - loss: 0.0310 - val_loss: 0.7823\n",
      "Epoch 44/600\n",
      "30/30 [==============================] - 0s 4ms/step - loss: 0.0292 - val_loss: 0.8254\n",
      "Epoch 45/600\n",
      "30/30 [==============================] - 0s 4ms/step - loss: 0.0290 - val_loss: 0.8454\n",
      "Epoch 46/600\n",
      "30/30 [==============================] - 0s 4ms/step - loss: 0.0283 - val_loss: 0.8765\n",
      "Epoch 46: early stopping\n"
     ]
    },
    {
     "data": {
      "text/plain": [
       "<keras.callbacks.History at 0x10a8b0851e0>"
      ]
     },
     "execution_count": 22,
     "metadata": {},
     "output_type": "execute_result"
    }
   ],
   "source": [
    "model.fit(x = X_train, y = y_train, epochs = 600, validation_data = (X_test, y_test), verbose = 1, \n",
    "          callbacks = [early_stopping])"
   ]
  },
  {
   "cell_type": "code",
   "execution_count": 72,
   "id": "0240ab74",
   "metadata": {},
   "outputs": [],
   "source": [
    "model_hist_df = pd.DataFrame(model.history.history)"
   ]
  },
  {
   "cell_type": "code",
   "execution_count": 74,
   "id": "5c6cd361",
   "metadata": {},
   "outputs": [
    {
     "data": {
      "text/html": [
       "<div>\n",
       "<style scoped>\n",
       "    .dataframe tbody tr th:only-of-type {\n",
       "        vertical-align: middle;\n",
       "    }\n",
       "\n",
       "    .dataframe tbody tr th {\n",
       "        vertical-align: top;\n",
       "    }\n",
       "\n",
       "    .dataframe thead th {\n",
       "        text-align: right;\n",
       "    }\n",
       "</style>\n",
       "<table border=\"1\" class=\"dataframe\">\n",
       "  <thead>\n",
       "    <tr style=\"text-align: right;\">\n",
       "      <th></th>\n",
       "      <th>loss</th>\n",
       "      <th>val_loss</th>\n",
       "    </tr>\n",
       "  </thead>\n",
       "  <tbody>\n",
       "    <tr>\n",
       "      <th>0</th>\n",
       "      <td>0.675724</td>\n",
       "      <td>0.555522</td>\n",
       "    </tr>\n",
       "    <tr>\n",
       "      <th>1</th>\n",
       "      <td>0.636122</td>\n",
       "      <td>0.476277</td>\n",
       "    </tr>\n",
       "    <tr>\n",
       "      <th>2</th>\n",
       "      <td>0.608320</td>\n",
       "      <td>0.461593</td>\n",
       "    </tr>\n",
       "    <tr>\n",
       "      <th>3</th>\n",
       "      <td>0.578265</td>\n",
       "      <td>0.487836</td>\n",
       "    </tr>\n",
       "    <tr>\n",
       "      <th>4</th>\n",
       "      <td>0.545599</td>\n",
       "      <td>0.526518</td>\n",
       "    </tr>\n",
       "  </tbody>\n",
       "</table>\n",
       "</div>"
      ],
      "text/plain": [
       "       loss  val_loss\n",
       "0  0.675724  0.555522\n",
       "1  0.636122  0.476277\n",
       "2  0.608320  0.461593\n",
       "3  0.578265  0.487836\n",
       "4  0.545599  0.526518"
      ]
     },
     "execution_count": 74,
     "metadata": {},
     "output_type": "execute_result"
    }
   ],
   "source": [
    "model_hist_df.head()"
   ]
  },
  {
   "cell_type": "code",
   "execution_count": 75,
   "id": "5f2895c4",
   "metadata": {},
   "outputs": [
    {
     "data": {
      "text/plain": [
       "<AxesSubplot: >"
      ]
     },
     "execution_count": 75,
     "metadata": {},
     "output_type": "execute_result"
    },
    {
     "data": {
      "image/png": "[encoded data removed]",
      "text/plain": [
       "<Figure size 640x480 with 1 Axes>"
      ]
     },
     "metadata": {},
     "output_type": "display_data"
    }
   ],
   "source": [
    "model_hist_df.plot()"
   ]
  },
  {
   "cell_type": "code",
   "execution_count": null,
   "id": "e897c7c7",
   "metadata": {},
   "outputs": [],
   "source": []
  }
 ],
 "metadata": {
  "kernelspec": {
   "display_name": "Python 3 (ipykernel)",
   "language": "python",
   "name": "python3"
  },
  "language_info": {
   "codemirror_mode": {
    "name": "ipython",
    "version": 3
   },
   "file_extension": ".py",
   "mimetype": "text/x-python",
   "name": "python",
   "nbconvert_exporter": "python",
   "pygments_lexer": "ipython3",
   "version": "3.10.5"
  }
 },
 "nbformat": 4,
 "nbformat_minor": 5
}
